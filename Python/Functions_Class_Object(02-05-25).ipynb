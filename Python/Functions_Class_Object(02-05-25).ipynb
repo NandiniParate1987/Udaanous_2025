{
 "cells": [
  {
   "cell_type": "markdown",
   "id": "d7a2714f",
   "metadata": {},
   "source": [
    "# Functions\n",
    "# Problem 1"
   ]
  },
  {
   "cell_type": "code",
   "execution_count": 7,
   "id": "c493b5e8",
   "metadata": {},
   "outputs": [
    {
     "data": {
      "text/plain": [
       "2227"
      ]
     },
     "execution_count": 7,
     "metadata": {},
     "output_type": "execute_result"
    }
   ],
   "source": [
    "# define variables\n",
    "P = 1570  # Principal amount in dollars\n",
    "r = 0.07  # Annual interest rate (5%)\n",
    "t = 5     # Time in years\n",
    "n = 30    # Compounded monthly\n",
    "\n",
    "def calculate_compound_interest(P, r, t, n): # define function\n",
    "    final_amount = P * (1 + r/n) ** (n*t)\n",
    "    return final_amount\n",
    "\n",
    "round(calculate_compound_interest(1570, 0.07, 5, 30))\n"
   ]
  },
  {
   "cell_type": "code",
   "execution_count": null,
   "id": "d538013c",
   "metadata": {},
   "outputs": [],
   "source": [
    "# Example Usage\n",
    "principal = 500000  # Loan amount in dollars\n",
    "annual_rate = 7.5   # Annual interest rate (7.5%)\n",
    "tenure = 20         # Loan tenure in years\n",
    "\n",
    "def calculate_emi(P, r, n): # function defination\n",
    "    monthly_rate = (annual_rate/100)/12\n",
    "    total_months = tenure * 12\n",
    "    emi_amount = (P * monthly_rate * ((1 + monthly_rate) ** total_months)) / (((1 + monthly_rate) ** total_months) - 1)\n",
    "    return emi_amount\n",
    "\n",
    "round(calculate_emi(500000, 7.5, 20)) # function calling"
   ]
  },
  {
   "cell_type": "markdown",
   "id": "367861eb",
   "metadata": {},
   "source": [
    "# Problem 2"
   ]
  },
  {
   "cell_type": "code",
   "execution_count": 8,
   "id": "38274706",
   "metadata": {},
   "outputs": [
    {
     "data": {
      "text/plain": [
       "6042"
      ]
     },
     "execution_count": 8,
     "metadata": {},
     "output_type": "execute_result"
    }
   ],
   "source": [
    "# define variables\n",
    "principal = 750000  # Loan amount in dollars\n",
    "annual_rate = 7.5   # Annual interest rate (7.5%)\n",
    "tenure = 20         # Loan tenure in years\n",
    "\n",
    "def calculate_emi(P, r, n): # function defination\n",
    "    monthly_rate = (annual_rate/100)/12\n",
    "    total_months = tenure * 12\n",
    "    emi_amount = (P * monthly_rate * ((1 + monthly_rate) ** total_months)) / (((1 + monthly_rate) ** total_months) - 1)\n",
    "    return emi_amount\n",
    "\n",
    "round(calculate_emi(750000, 7.5, 20))# function calling"
   ]
  },
  {
   "cell_type": "markdown",
   "id": "4dc78382",
   "metadata": {},
   "source": [
    "# Problem 3 "
   ]
  },
  {
   "cell_type": "code",
   "execution_count": 12,
   "id": "3ec5c6f1",
   "metadata": {},
   "outputs": [
    {
     "data": {
      "text/plain": [
       "(21.224489795918366, 'Normal weight')"
      ]
     },
     "execution_count": 12,
     "metadata": {},
     "output_type": "execute_result"
    }
   ],
   "source": [
    "# define variables\n",
    "weight = 65  # Weight in kilograms\n",
    "height = 1.75  # Height in meters\n",
    "\n",
    "def calculate_bmi(weight, height): # function defination\n",
    "    bmi = weight / (height ** 2)\n",
    "    if bmi < 18.5:\n",
    "        assessment = \"Underweight\"\n",
    "    elif 18.5 <= bmi < 25:\n",
    "        assessment = \"Normal weight\"\n",
    "    elif 25 <= bmi < 30:\n",
    "        assessment = \"Overweight\"\n",
    "    else:\n",
    "        assessment = \"Obesity\"\n",
    "    return bmi, assessment\n",
    "\n",
    "calculate_bmi(65, 1.75) # function calling"
   ]
  },
  {
   "cell_type": "markdown",
   "id": "485473cf",
   "metadata": {},
   "source": [
    "# Classes\n",
    "# Problem 1"
   ]
  },
  {
   "cell_type": "markdown",
   "id": "796f7774",
   "metadata": {},
   "source": [
    "Problem:\n",
    "Imagine you are managing a small library and need a system to track books and their availability. Each book has details like the title, author, and availability status (whether it’s borrowed or not). You want to build a system that allows:\n",
    "\n",
    "Adding books to the library.\n",
    "Checking if a book is available.\n",
    "Borrowing a book (marking it as borrowed).\n",
    "Returning a book (marking it as available).\n",
    "You will solve this using classes and objects."
   ]
  },
  {
   "cell_type": "code",
   "execution_count": 13,
   "id": "d2ead5e4",
   "metadata": {},
   "outputs": [],
   "source": [
    "#Define class\n",
    "class Book_Store: \n",
    "    def __init__(self, title, author): # define function\n",
    "        self.title = title\n",
    "        self. author = author\n",
    "        self.is_available = True\n",
    "    def borrow(self): # define function\n",
    "        if self.is_available:\n",
    "            self.is_available = False\n",
    "            return f\"You have borrowed '{self.title}'.\"\n",
    "        else:\n",
    "            return f\"Sorry, '{self.title}' is already borrowed.\"\n",
    "    def return_book(self): # define function\n",
    "        if not self.is_available:\n",
    "            self.is_available = True \n",
    "            return f\"'{self.title}' has been returned. Thank you!\"\n",
    "        else:\n",
    "            return f\"{self.title}' is already in the library.\"\n",
    "    def check_availability(self): # define function\n",
    "        return f\"'{self.title}' is {'available' if self.is_available else 'not available'}\"\n",
    "    "
   ]
  },
  {
   "cell_type": "code",
   "execution_count": 41,
   "id": "295de69e",
   "metadata": {},
   "outputs": [],
   "source": [
    "library = Book_Store(\"Agnipankh\", \"APJ Abdul Kalam\") # object library creation and calling class "
   ]
  },
  {
   "cell_type": "code",
   "execution_count": 42,
   "id": "f0954466",
   "metadata": {},
   "outputs": [
    {
     "name": "stdout",
     "output_type": "stream",
     "text": [
      "'Agnipankh' is available\n"
     ]
    }
   ],
   "source": [
    "print(library.check_availability())"
   ]
  },
  {
   "cell_type": "code",
   "execution_count": 43,
   "id": "c0eceacb",
   "metadata": {},
   "outputs": [
    {
     "name": "stdout",
     "output_type": "stream",
     "text": [
      "You have borrowed 'Agnipankh'.\n"
     ]
    }
   ],
   "source": [
    "print(library.borrow())"
   ]
  },
  {
   "cell_type": "code",
   "execution_count": 44,
   "id": "35d4637a",
   "metadata": {},
   "outputs": [
    {
     "name": "stdout",
     "output_type": "stream",
     "text": [
      "'Agnipankh' is not available\n"
     ]
    }
   ],
   "source": [
    "print(library.check_availability())"
   ]
  },
  {
   "cell_type": "code",
   "execution_count": 45,
   "id": "c1753e31",
   "metadata": {},
   "outputs": [
    {
     "name": "stdout",
     "output_type": "stream",
     "text": [
      "'Agnipankh' has been returned. Thank you!\n"
     ]
    }
   ],
   "source": [
    "print(library.return_book())"
   ]
  },
  {
   "cell_type": "code",
   "execution_count": 46,
   "id": "488b9055",
   "metadata": {},
   "outputs": [
    {
     "name": "stdout",
     "output_type": "stream",
     "text": [
      "'Agnipankh' is available\n"
     ]
    }
   ],
   "source": [
    "print(library.check_availability())"
   ]
  },
  {
   "cell_type": "code",
   "execution_count": 47,
   "id": "a674c90d",
   "metadata": {},
   "outputs": [
    {
     "name": "stdout",
     "output_type": "stream",
     "text": [
      "Agnipankh' is already in the library.\n"
     ]
    }
   ],
   "source": [
    "print(library.return_book())"
   ]
  },
  {
   "cell_type": "code",
   "execution_count": 40,
   "id": "c4482af3",
   "metadata": {},
   "outputs": [
    {
     "name": "stdout",
     "output_type": "stream",
     "text": [
      "Added: 'Atomic Habits' by James Clear\n",
      "Added: 'Think and Grow Rich' by Napoleon Hill\n",
      "Added: 'Agnipankh' by APJ Abdul Kalam\n",
      "Added: 'Awaken the Giant Within' by Tony Robbins\n",
      "Added: 'The Power of Positive Thinking' by Norman Vincent Peale\n",
      "Books in the library:\n",
      "- 'Atomic Habits' by James Clear [Available]\n",
      "- 'Think and Grow Rich' by Napoleon Hill [Available]\n",
      "- 'Agnipankh' by APJ Abdul Kalam [Available]\n",
      "- 'Awaken the Giant Within' by Tony Robbins [Available]\n",
      "- 'The Power of Positive Thinking' by Norman Vincent Peale [Available]\n",
      "You have borrowed 'Atomic Habits'.\n",
      "Sorry, 'Atomic Habits' is already borrowed.\n",
      "'Atomic Habits' is not available.\n",
      "'Think and Grow Rich' is available.\n",
      "'Agnipankh' is available.\n",
      "'Awaken the Giant Within' is available.\n",
      "'The Power of Positive Thinking' is available.\n",
      "'Atomic Habits' has been returned. Thank you!\n",
      "Books in the library:\n",
      "- 'Atomic Habits' by James Clear [Available]\n",
      "- 'Think and Grow Rich' by Napoleon Hill [Available]\n",
      "- 'Agnipankh' by APJ Abdul Kalam [Available]\n",
      "- 'Awaken the Giant Within' by Tony Robbins [Available]\n",
      "- 'The Power of Positive Thinking' by Norman Vincent Peale [Available]\n"
     ]
    }
   ],
   "source": [
    "class Book:\n",
    "    def __init__(self, title, author):\n",
    "        self.title = title\n",
    "        self.author = author\n",
    "        self.is_available = True  # Track availability\n",
    "\n",
    "    def __str__(self):\n",
    "        return f\"'{self.title}' by {self.author}\"\n",
    "\n",
    "    def borrow(self):\n",
    "        if self.is_available:\n",
    "            self.is_available = False\n",
    "            return f\"You have borrowed '{self.title}'.\"\n",
    "        else:\n",
    "            return f\"Sorry, '{self.title}' is already borrowed.\"\n",
    "\n",
    "    def return_book(self):\n",
    "        if not self.is_available:\n",
    "            self.is_available = True\n",
    "            return f\"'{self.title}' has been returned. Thank you!\"\n",
    "        else:\n",
    "            return f\"'{self.title}' is already in the library.\"\n",
    "\n",
    "    def check_availability(self):\n",
    "        return f\"'{self.title}' is {'available' if self.is_available else 'not available'}.\"\n",
    "\n",
    "\n",
    "class LibraryBookStore:\n",
    "    def __init__(self):\n",
    "        self.books = []\n",
    "\n",
    "    def add_book(self, title, author):\n",
    "        new_book = Book(title, author)\n",
    "        self.books.append(new_book)\n",
    "        print(f\"Added: {new_book}\")\n",
    "\n",
    "    def show_books(self):\n",
    "        if not self.books:\n",
    "            print(\"No books in the library.\")\n",
    "        else:\n",
    "            print(\"Books in the library:\")\n",
    "            for book in self.books:\n",
    "                status = \"Available\" if book.is_available else \"Borrowed\"\n",
    "                print(f\"- {book} [{status}]\")\n",
    "\n",
    "    def remove_book(self, title):\n",
    "        for book in self.books:\n",
    "            if book.title.lower() == title.lower():\n",
    "                self.books.remove(book)\n",
    "                print(f\"Removed: {book}\")\n",
    "                return\n",
    "        print(f\"No book found with title: {title}\")\n",
    "\n",
    "    def search_by_author(self, author):\n",
    "        found_books = [book for book in self.books if book.author.lower() == author.lower()]\n",
    "        if not found_books:\n",
    "            print(f\"No books found by author: {author}\")\n",
    "        else:\n",
    "            print(f\"Books by {author}:\")\n",
    "            for book in found_books:\n",
    "                print(f\"- {book}\")\n",
    "\n",
    "    def borrow_book(self, title):\n",
    "        for book in self.books:\n",
    "            if book.title.lower() == title.lower():\n",
    "                print(book.borrow())\n",
    "                return\n",
    "        print(f\"No book found with title: {title}\")\n",
    "\n",
    "    def return_book(self, title):\n",
    "        for book in self.books:\n",
    "            if book.title.lower() == title.lower():\n",
    "                print(book.return_book())\n",
    "                return\n",
    "        print(f\"No book found with title: {title}\")\n",
    "\n",
    "\n",
    "# Example usage\n",
    "library = LibraryBookStore()\n",
    "\n",
    "# Add books\n",
    "library.add_book(\"Atomic Habits\", \"James Clear\")\n",
    "library.add_book(\"Think and Grow Rich\", \"Napoleon Hill\")\n",
    "library.add_book(\"Agnipankh\", \"APJ Abdul Kalam\")\n",
    "library.add_book(\"Awaken the Giant Within\", \"Tony Robbins\")\n",
    "library.add_book(\"The Power of Positive Thinking\", \"Norman Vincent Peale\")\n",
    "\n",
    "# Show books\n",
    "library.show_books()\n",
    "\n",
    "# Borrow a book\n",
    "library.borrow_book(\"Atomic Habits\")\n",
    "\n",
    "# Try borrowing again (should say already borrowed)\n",
    "library.borrow_book(\"Atomic Habits\")\n",
    "\n",
    "# Check availability manually\n",
    "for book in library.books:\n",
    "    print(book.check_availability())\n",
    "\n",
    "# Return the book\n",
    "library.return_book(\"Atomic Habits\")\n",
    "\n",
    "# Show books again to confirm availability\n",
    "library.show_books()\n"
   ]
  },
  {
   "cell_type": "code",
   "execution_count": null,
   "id": "7dd9717f",
   "metadata": {},
   "outputs": [],
   "source": []
  },
  {
   "cell_type": "code",
   "execution_count": null,
   "id": "5fe1d7c5",
   "metadata": {},
   "outputs": [],
   "source": []
  },
  {
   "cell_type": "code",
   "execution_count": 39,
   "id": "ba3b045b",
   "metadata": {},
   "outputs": [
    {
     "name": "stdout",
     "output_type": "stream",
     "text": [
      "Enter the numerator: 76\n",
      "Enter the denominator: 3\n",
      "Success! 25.333333333333332\n"
     ]
    }
   ],
   "source": [
    "try:\n",
    "    num1 = float(input(\"Enter the numerator: \"))\n",
    "    num2 = float(input(\"Enter the denominator: \"))\n",
    "    result = num1 / num2\n",
    "except ZeroDivisionError:\n",
    "    print(\"Division by zero is not allowed.\")\n",
    "except ValueError:\n",
    "    print(\"Invalid input. Please enter numeric values.\")\n",
    "else:\n",
    "    print(\"Success!\", result)"
   ]
  },
  {
   "cell_type": "code",
   "execution_count": null,
   "id": "448de969",
   "metadata": {},
   "outputs": [],
   "source": []
  },
  {
   "cell_type": "code",
   "execution_count": null,
   "id": "9aa8866c",
   "metadata": {},
   "outputs": [],
   "source": []
  },
  {
   "cell_type": "code",
   "execution_count": null,
   "id": "f2147e9b",
   "metadata": {},
   "outputs": [],
   "source": []
  },
  {
   "cell_type": "code",
   "execution_count": null,
   "id": "07335774",
   "metadata": {},
   "outputs": [],
   "source": []
  },
  {
   "cell_type": "code",
   "execution_count": null,
   "id": "69faf643",
   "metadata": {},
   "outputs": [],
   "source": []
  }
 ],
 "metadata": {
  "kernelspec": {
   "display_name": "Python 3 (ipykernel)",
   "language": "python",
   "name": "python3"
  },
  "language_info": {
   "codemirror_mode": {
    "name": "ipython",
    "version": 3
   },
   "file_extension": ".py",
   "mimetype": "text/x-python",
   "name": "python",
   "nbconvert_exporter": "python",
   "pygments_lexer": "ipython3",
   "version": "3.11.4"
  }
 },
 "nbformat": 4,
 "nbformat_minor": 5
}
