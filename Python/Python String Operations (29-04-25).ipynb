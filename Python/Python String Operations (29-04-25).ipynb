{
 "cells": [
  {
   "cell_type": "markdown",
   "id": "55700e68",
   "metadata": {},
   "source": [
    "Problem 1: Given the string \"PYTHON\", extract and print the fourth characters using their positions."
   ]
  },
  {
   "cell_type": "code",
   "execution_count": 1,
   "id": "472948c8",
   "metadata": {},
   "outputs": [
    {
     "data": {
      "text/plain": [
       "'H'"
      ]
     },
     "execution_count": 1,
     "metadata": {},
     "output_type": "execute_result"
    }
   ],
   "source": [
    "test_text = \"PYTHON\"\n",
    "extract_4_char= test_text[3]\n",
    "extract_4_char"
   ]
  },
  {
   "cell_type": "markdown",
   "id": "3852146d",
   "metadata": {},
   "source": [
    "Problem 2: Given the string \"PYTHON\", extract and print the second-to-last characters using negative indexing."
   ]
  },
  {
   "cell_type": "code",
   "execution_count": 2,
   "id": "a3d553c1",
   "metadata": {},
   "outputs": [
    {
     "data": {
      "text/plain": [
       "'O'"
      ]
     },
     "execution_count": 2,
     "metadata": {},
     "output_type": "execute_result"
    }
   ],
   "source": [
    "test_text = \"PYTHON\"\n",
    "extract_2ndLast_char= test_text[-2]\n",
    "extract_2ndLast_char"
   ]
  },
  {
   "cell_type": "markdown",
   "id": "a9f21a58",
   "metadata": {},
   "source": [
    "Problem 3: Extract the substring \"THON\" from the string \"PYTHON\"."
   ]
  },
  {
   "cell_type": "code",
   "execution_count": 8,
   "id": "168f80f2",
   "metadata": {},
   "outputs": [
    {
     "data": {
      "text/plain": [
       "'THON'"
      ]
     },
     "execution_count": 8,
     "metadata": {},
     "output_type": "execute_result"
    }
   ],
   "source": [
    "text_THON=test_text[2:6]\n",
    "text_THON"
   ]
  },
  {
   "cell_type": "markdown",
   "id": "935c71c1",
   "metadata": {},
   "source": [
    "Problem 4: Extract every second character from the string \"PYTHON\" starting from the first character."
   ]
  },
  {
   "cell_type": "code",
   "execution_count": 9,
   "id": "06177448",
   "metadata": {},
   "outputs": [
    {
     "data": {
      "text/plain": [
       "'PTO'"
      ]
     },
     "execution_count": 9,
     "metadata": {},
     "output_type": "execute_result"
    }
   ],
   "source": [
    "Extract_every_2nd_char = test_text[0:5:2]\n",
    "Extract_every_2nd_char"
   ]
  },
  {
   "cell_type": "markdown",
   "id": "98acea32",
   "metadata": {},
   "source": [
    "Problem 5: Find the length of the string \"Hello, World!\"."
   ]
  },
  {
   "cell_type": "code",
   "execution_count": 10,
   "id": "2505a851",
   "metadata": {},
   "outputs": [
    {
     "data": {
      "text/plain": [
       "13"
      ]
     },
     "execution_count": 10,
     "metadata": {},
     "output_type": "execute_result"
    }
   ],
   "source": [
    "find_length = \"Hello, World!\"\n",
    "len(find_length)"
   ]
  },
  {
   "cell_type": "markdown",
   "id": "cc80a262",
   "metadata": {},
   "source": [
    "Problem 6: Combine the strings \"Hello\" and \"World\" with a space in between."
   ]
  },
  {
   "cell_type": "code",
   "execution_count": 12,
   "id": "f33528a9",
   "metadata": {},
   "outputs": [
    {
     "data": {
      "text/plain": [
       "'Hello World'"
      ]
     },
     "execution_count": 12,
     "metadata": {},
     "output_type": "execute_result"
    }
   ],
   "source": [
    "combine= \"Hello\" + \" \" + \"World\"\n",
    "combine"
   ]
  },
  {
   "cell_type": "markdown",
   "id": "d5f24399",
   "metadata": {},
   "source": [
    "Problem 7: Print the following text using escape sequences:"
   ]
  },
  {
   "cell_type": "code",
   "execution_count": 15,
   "id": "228b4266",
   "metadata": {},
   "outputs": [
    {
     "name": "stdout",
     "output_type": "stream",
     "text": [
      "Hello\n",
      "\tWorld\n"
     ]
    }
   ],
   "source": [
    "print(\"Hello\\n\\tWorld\")\n"
   ]
  },
  {
   "cell_type": "markdown",
   "id": "57d23ec9",
   "metadata": {},
   "source": [
    "Problem 8: Convert \"Python Programming\" to uppercase and lowercase."
   ]
  },
  {
   "cell_type": "code",
   "execution_count": 16,
   "id": "94806569",
   "metadata": {},
   "outputs": [
    {
     "name": "stdout",
     "output_type": "stream",
     "text": [
      "PYTHON PROGRAMMING\n",
      "python programming\n"
     ]
    }
   ],
   "source": [
    "course_name = \"Python Programming\" \n",
    "print(course_name.upper())\n",
    "print(course_name.lower())"
   ]
  },
  {
   "cell_type": "markdown",
   "id": "f26d684f",
   "metadata": {},
   "source": [
    "Problem 9: Replace the word \"Python\" with \"Java\" in the string \"I love Python.\"."
   ]
  },
  {
   "cell_type": "code",
   "execution_count": 17,
   "id": "9bf3bac2",
   "metadata": {},
   "outputs": [
    {
     "data": {
      "text/plain": [
       "'I love Java.'"
      ]
     },
     "execution_count": 17,
     "metadata": {},
     "output_type": "execute_result"
    }
   ],
   "source": [
    "sentance= \"I love Python.\"\n",
    "new_sentance= sentance.replace(\"Python\",\"Java\")\n",
    "new_sentance"
   ]
  },
  {
   "cell_type": "code",
   "execution_count": null,
   "id": "082f4169",
   "metadata": {},
   "outputs": [],
   "source": []
  }
 ],
 "metadata": {
  "kernelspec": {
   "display_name": "Python 3 (ipykernel)",
   "language": "python",
   "name": "python3"
  },
  "language_info": {
   "codemirror_mode": {
    "name": "ipython",
    "version": 3
   },
   "file_extension": ".py",
   "mimetype": "text/x-python",
   "name": "python",
   "nbconvert_exporter": "python",
   "pygments_lexer": "ipython3",
   "version": "3.11.4"
  }
 },
 "nbformat": 4,
 "nbformat_minor": 5
}
