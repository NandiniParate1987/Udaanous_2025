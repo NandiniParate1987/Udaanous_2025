{
 "cells": [
  {
   "cell_type": "markdown",
   "id": "991b8b4f",
   "metadata": {},
   "source": [
    "*Problem 1:\n",
    "You are given a dictionary representing a student's information. Slice and extract the values for the name and grade keys.*"
   ]
  },
  {
   "cell_type": "code",
   "execution_count": 4,
   "id": "d2799579",
   "metadata": {},
   "outputs": [
    {
     "name": "stdout",
     "output_type": "stream",
     "text": [
      "{'Name': 'Nandini', 'Age': 27, 'Grade': 'A', 'City': 'Pune'}\n",
      "Nandini\n",
      "A\n"
     ]
    }
   ],
   "source": [
    "# Define Dictinary\n",
    "dic_stud={\"Name\":\"Nandini\",\"Age\":27,\"Grade\":\"A\",\"City\":\"Pune\"}\n",
    "print(dic_stud)\n",
    "print(dic_stud[\"Name\"]) #Slice and extract the values for the name \n",
    "print(dic_stud[\"Grade\"])  # and grade keys"
   ]
  },
  {
   "cell_type": "markdown",
   "id": "0146599f",
   "metadata": {},
   "source": [
    "Problem 2:\n",
    "Add a new key-value pair to the dictionary representing the student's email address (alice@example.com)."
   ]
  },
  {
   "cell_type": "code",
   "execution_count": 5,
   "id": "a6301ace",
   "metadata": {},
   "outputs": [
    {
     "name": "stdout",
     "output_type": "stream",
     "text": [
      "{'Name': 'Nandini', 'Age': 27, 'Grade': 'A', 'City': 'Pune', 'E-Mail': 'alice@example.com'}\n"
     ]
    }
   ],
   "source": [
    "# Add a new key-value pair to the dictionary\n",
    "dic_stud[\"E-Mail\"]=\"alice@example.com\"\n",
    "print(dic_stud)"
   ]
  },
  {
   "cell_type": "markdown",
   "id": "9a462d14",
   "metadata": {},
   "source": [
    "Problem 3:\n",
    "Remove the city key-value pair from the dictionary."
   ]
  },
  {
   "cell_type": "code",
   "execution_count": 6,
   "id": "0da106f3",
   "metadata": {},
   "outputs": [
    {
     "name": "stdout",
     "output_type": "stream",
     "text": [
      "{'Name': 'Nandini', 'Age': 27, 'Grade': 'A', 'E-Mail': 'alice@example.com'}\n"
     ]
    }
   ],
   "source": [
    "del dic_stud[\"City\"]\n",
    "print(dic_stud)"
   ]
  },
  {
   "cell_type": "markdown",
   "id": "88269e50",
   "metadata": {},
   "source": [
    "Problem 4:\n",
    "Retrieve and display all the keys, all the values, and all the key-value pairs from the dictionary."
   ]
  },
  {
   "cell_type": "code",
   "execution_count": 8,
   "id": "64ff0992",
   "metadata": {},
   "outputs": [
    {
     "name": "stdout",
     "output_type": "stream",
     "text": [
      "dict_keys(['Name', 'Age', 'Grade', 'E-Mail'])\n",
      "dict_values(['Nandini', 27, 'A', 'alice@example.com'])\n",
      "dict_items([('Name', 'Nandini'), ('Age', 27), ('Grade', 'A'), ('E-Mail', 'alice@example.com')])\n"
     ]
    }
   ],
   "source": [
    "keys=dic_stud.keys()\n",
    "print(keys)\n",
    "values=dic_stud.values()\n",
    "print(values)\n",
    "items=dic_stud.items()\n",
    "print(items)\n"
   ]
  },
  {
   "cell_type": "code",
   "execution_count": null,
   "id": "beab997b",
   "metadata": {},
   "outputs": [],
   "source": []
  }
 ],
 "metadata": {
  "kernelspec": {
   "display_name": "Python 3 (ipykernel)",
   "language": "python",
   "name": "python3"
  },
  "language_info": {
   "codemirror_mode": {
    "name": "ipython",
    "version": 3
   },
   "file_extension": ".py",
   "mimetype": "text/x-python",
   "name": "python",
   "nbconvert_exporter": "python",
   "pygments_lexer": "ipython3",
   "version": "3.11.4"
  }
 },
 "nbformat": 4,
 "nbformat_minor": 5
}
