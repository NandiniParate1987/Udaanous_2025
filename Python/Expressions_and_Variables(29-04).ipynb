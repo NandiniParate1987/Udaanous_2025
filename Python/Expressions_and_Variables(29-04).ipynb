{
 "cells": [
  {
   "cell_type": "markdown",
   "id": "80bc2ff9",
   "metadata": {},
   "source": [
    "# Question:\n",
    "A person buys eggs over three days. On Day 1, they buy 12 eggs; on Day 2, they buy 10 eggs; and on Day 3, they buy 8 eggs.\n",
    "\n",
    "Over the three days, they use the following number of eggs:\n",
    "On Day 1, they use 5 eggs.\n",
    "On Day 2, they use 6 eggs.\n",
    "On Day 3, they use 4 eggs.\n",
    "\n",
    "Calculate:\n",
    "The total number of eggs bought over the three days.\n",
    "The total number of eggs used over the three days.\n",
    "The number of remaining eggs after using them."
   ]
  },
  {
   "cell_type": "code",
   "execution_count": 4,
   "id": "d06a14ed",
   "metadata": {},
   "outputs": [
    {
     "name": "stdout",
     "output_type": "stream",
     "text": [
      "The total number of eggs bought over the three days =  30\n"
     ]
    }
   ],
   "source": [
    "# Calculate The total number of eggs bought over the three days\n",
    "D1_egg=12\n",
    "D2_egg=10\n",
    "D3_egg=8\n",
    "total_egg_bought= D1_egg+D2_egg+D3_egg\n",
    "print(\"The total number of eggs bought over the three days = \", total_egg_bought)"
   ]
  },
  {
   "cell_type": "code",
   "execution_count": 5,
   "id": "717ab2cc",
   "metadata": {},
   "outputs": [
    {
     "name": "stdout",
     "output_type": "stream",
     "text": [
      "The total number of eggs bought over the three days =  15\n"
     ]
    }
   ],
   "source": [
    "# Calculate The total number of eggs used over the three days.\n",
    "D1_Usedegg=5\n",
    "D2_Usedegg=6\n",
    "D3_Usedegg=4\n",
    "total_egg_used= D1_Usedegg+D2_Usedegg+D3_Usedegg\n",
    "print(\"The total number of eggs bought over the three days = \", total_egg_used)"
   ]
  },
  {
   "cell_type": "code",
   "execution_count": 6,
   "id": "6c794273",
   "metadata": {},
   "outputs": [
    {
     "name": "stdout",
     "output_type": "stream",
     "text": [
      "The number of remaining eggs after using them =  15\n"
     ]
    }
   ],
   "source": [
    "# Calculate The number of remaining eggs after using them.\n",
    "remaining_eggs=total_egg_bought-total_egg_used\n",
    "print(\"The number of remaining eggs after using them = \",remaining_eggs)"
   ]
  },
  {
   "cell_type": "code",
   "execution_count": null,
   "id": "df0447bb",
   "metadata": {},
   "outputs": [],
   "source": []
  }
 ],
 "metadata": {
  "kernelspec": {
   "display_name": "Python 3 (ipykernel)",
   "language": "python",
   "name": "python3"
  },
  "language_info": {
   "codemirror_mode": {
    "name": "ipython",
    "version": 3
   },
   "file_extension": ".py",
   "mimetype": "text/x-python",
   "name": "python",
   "nbconvert_exporter": "python",
   "pygments_lexer": "ipython3",
   "version": "3.11.4"
  }
 },
 "nbformat": 4,
 "nbformat_minor": 5
}
