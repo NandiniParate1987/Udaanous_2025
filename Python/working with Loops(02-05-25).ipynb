{
 "cells": [
  {
   "cell_type": "markdown",
   "id": "d2ebd7b7",
   "metadata": {},
   "source": [
    "Problem 1:\n",
    "Write a program to iterate through a list of names and print each name along with a message saying \"Welcome to the team!\". The list of names is given as:\n",
    "\n",
    "[\"Alice\", \"Bob\", \"Charlie\", \"Diana\"]."
   ]
  },
  {
   "cell_type": "code",
   "execution_count": 4,
   "id": "a92b6d65",
   "metadata": {},
   "outputs": [
    {
     "name": "stdout",
     "output_type": "stream",
     "text": [
      "Alice , Welcome to the team!\n",
      "Bob , Welcome to the team!\n",
      "Charlie , Welcome to the team!\n",
      "Diana , Welcome to the team!\n"
     ]
    }
   ],
   "source": [
    "# define the list \n",
    "team_member=[\"Alice\", \"Bob\", \"Charlie\", \"Diana\"]\n",
    "\n",
    "for name in team_member: \n",
    "    print(name,\", Welcome to the team!\")"
   ]
  },
  {
   "cell_type": "markdown",
   "id": "00a67165",
   "metadata": {},
   "source": [
    "Problem 2:\n",
    "Write a program to iterate through a list of tasks and print each task with its corresponding index number, starting from 1. The list of tasks is:\n",
    "\n",
    "[\"Wash the dishes\", \"Clean the room\", \"Do the laundry\", \"Prepare dinner\"]."
   ]
  },
  {
   "cell_type": "code",
   "execution_count": 6,
   "id": "b234587e",
   "metadata": {},
   "outputs": [
    {
     "name": "stdout",
     "output_type": "stream",
     "text": [
      "Index:0, Task:Wash the dishes\n",
      "Index:1, Task:Clean the room\n",
      "Index:2, Task:Do the laundry\n",
      "Index:3, Task:Prepare dinner\n"
     ]
    }
   ],
   "source": [
    "#define list \n",
    "list_of_task=[\"Wash the dishes\", \"Clean the room\", \"Do the laundry\", \"Prepare dinner\"]\n",
    "for Index, Task in enumerate(list_of_task): #The enumerate() function adds a counter to an iterable and returns it as an enumerate object.\n",
    "    # It's often used when both the index and value of elements in a sequence are needed.\n",
    "    print(f\"Index:{Index}, Task:{Task}\")\n",
    "    "
   ]
  },
  {
   "cell_type": "markdown",
   "id": "70ad4e5f",
   "metadata": {},
   "source": [
    "Problem 3:\n",
    "Write a program to create a list of even numbers between 2 and 10 (inclusive) using a while-loop. Start with an empty list and append each even number to the list during each iteration."
   ]
  },
  {
   "cell_type": "code",
   "execution_count": 9,
   "id": "56997025",
   "metadata": {},
   "outputs": [
    {
     "name": "stdout",
     "output_type": "stream",
     "text": [
      "[2, 4, 6, 8, 10]\n"
     ]
    }
   ],
   "source": [
    "# define empty list\n",
    "even_num=[]\n",
    "# initialise counter\n",
    "i=2\n",
    "while i<=10:\n",
    "    even_num.append(i)\n",
    "    i+=2\n",
    "print(even_num)\n"
   ]
  },
  {
   "cell_type": "markdown",
   "id": "31413c50",
   "metadata": {},
   "source": [
    "Problem 4:\n",
    "Write a program to classify a list of numbers into positive, negative, or zero. Use a for-loop to iterate through the numbers and check each one using if, elif, and else conditions.\n",
    "\n",
    "The list of numbers is: [10, -5, 0, 23, -7, 0, 15, -3]."
   ]
  },
  {
   "cell_type": "code",
   "execution_count": 11,
   "id": "406305cb",
   "metadata": {},
   "outputs": [
    {
     "name": "stdout",
     "output_type": "stream",
     "text": [
      "10  is positive\n",
      "-5  is negative\n",
      "0 is Zero\n",
      "23  is positive\n",
      "-7  is negative\n",
      "0 is Zero\n",
      "15  is positive\n",
      "-3  is negative\n"
     ]
    }
   ],
   "source": [
    "#define list\n",
    "List_of_num=[10, -5, 0, 23, -7, 0, 15, -3]\n",
    "for number in List_of_num:\n",
    "    if number > 0:\n",
    "        print(number,\" is positive\")\n",
    "    elif number < 0:\n",
    "         print(number,\" is negative\")\n",
    "    else:\n",
    "        print(f\"{number} is Zero\")\n"
   ]
  }
 ],
 "metadata": {
  "kernelspec": {
   "display_name": "Python 3 (ipykernel)",
   "language": "python",
   "name": "python3"
  },
  "language_info": {
   "codemirror_mode": {
    "name": "ipython",
    "version": 3
   },
   "file_extension": ".py",
   "mimetype": "text/x-python",
   "name": "python",
   "nbconvert_exporter": "python",
   "pygments_lexer": "ipython3",
   "version": "3.11.4"
  }
 },
 "nbformat": 4,
 "nbformat_minor": 5
}
