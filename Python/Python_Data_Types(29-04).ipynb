{
 "cells": [
  {
   "cell_type": "markdown",
   "id": "580e93a3",
   "metadata": {},
   "source": [
    "# Python data types"
   ]
  },
  {
   "cell_type": "markdown",
   "id": "cda797af",
   "metadata": {},
   "source": [
    "# Problem 1: Convert String to Integer"
   ]
  },
  {
   "cell_type": "code",
   "execution_count": 1,
   "id": "e2d813ae",
   "metadata": {},
   "outputs": [
    {
     "data": {
      "text/plain": [
       "str"
      ]
     },
     "execution_count": 1,
     "metadata": {},
     "output_type": "execute_result"
    }
   ],
   "source": [
    "# Convert String into interger \n",
    "str_num = \"200\"\n",
    "type(str_num)"
   ]
  },
  {
   "cell_type": "code",
   "execution_count": 3,
   "id": "66ba0096",
   "metadata": {},
   "outputs": [
    {
     "name": "stdout",
     "output_type": "stream",
     "text": [
      "200 <class 'int'>\n"
     ]
    }
   ],
   "source": [
    "int_num = int(str_num)\n",
    "print(int_num, type(int_num))"
   ]
  },
  {
   "cell_type": "markdown",
   "id": "3c340450",
   "metadata": {},
   "source": [
    "# Problem 2: Convert Float to String\n"
   ]
  },
  {
   "cell_type": "code",
   "execution_count": 5,
   "id": "f9c1aaad",
   "metadata": {},
   "outputs": [
    {
     "name": "stdout",
     "output_type": "stream",
     "text": [
      "455.987 <class 'str'>\n"
     ]
    }
   ],
   "source": [
    "# Problem 2: Convert a float number into a string\n",
    "float_num = 455.987\n",
    "type(float_num)\n",
    "string_num = str(float_num)\n",
    "print(string_num, type(string_num))"
   ]
  },
  {
   "cell_type": "markdown",
   "id": "f772b4e0",
   "metadata": {},
   "source": [
    "# Problem 3: Convert Boolean to Integer"
   ]
  },
  {
   "cell_type": "code",
   "execution_count": 8,
   "id": "33683910",
   "metadata": {},
   "outputs": [
    {
     "data": {
      "text/plain": [
       "bool"
      ]
     },
     "execution_count": 8,
     "metadata": {},
     "output_type": "execute_result"
    }
   ],
   "source": [
    "# Problem 3: Convert a boolean value into an integer\n",
    "is_active = False\n",
    "# Expected output: 1 (True -> 1, False -> 0)\n",
    "type(is_active)"
   ]
  },
  {
   "cell_type": "code",
   "execution_count": 9,
   "id": "0e6e9ea8",
   "metadata": {},
   "outputs": [
    {
     "name": "stdout",
     "output_type": "stream",
     "text": [
      "False <class 'str'>\n"
     ]
    }
   ],
   "source": [
    "str_bool=str(is_active)\n",
    "print(str_bool, type(str_bool))"
   ]
  },
  {
   "cell_type": "code",
   "execution_count": null,
   "id": "1e15f9f5",
   "metadata": {},
   "outputs": [],
   "source": []
  }
 ],
 "metadata": {
  "kernelspec": {
   "display_name": "Python 3 (ipykernel)",
   "language": "python",
   "name": "python3"
  },
  "language_info": {
   "codemirror_mode": {
    "name": "ipython",
    "version": 3
   },
   "file_extension": ".py",
   "mimetype": "text/x-python",
   "name": "python",
   "nbconvert_exporter": "python",
   "pygments_lexer": "ipython3",
   "version": "3.11.4"
  }
 },
 "nbformat": 4,
 "nbformat_minor": 5
}
