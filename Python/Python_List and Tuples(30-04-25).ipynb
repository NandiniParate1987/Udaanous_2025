{
 "cells": [
  {
   "cell_type": "code",
   "execution_count": 4,
   "id": "8b73b7cb",
   "metadata": {},
   "outputs": [
    {
     "name": "stdout",
     "output_type": "stream",
     "text": [
      "(12, 45, 67)\n",
      "('Meena', 'Sona', 'Rina')\n",
      "(12, 45, 67, 'Meena', 'Sona', 'Rina')\n"
     ]
    }
   ],
   "source": [
    "# tuple define\n",
    "num_tuple=(12,45,67)\n",
    "name_tuple=(\"Meena\",\"Sona\",\"Rina\")\n",
    "# cancatinate the tuple\n",
    "concat_tuple=num_tuple+name_tuple\n",
    "\n",
    "print(num_tuple)\n",
    "print(name_tuple)\n",
    "print(concat_tuple)"
   ]
  },
  {
   "cell_type": "markdown",
   "id": "3b067382",
   "metadata": {},
   "source": [
    "Problem 1:\n",
    "You have a nested tuple nested_tuple = ((1, 2, 3), (4, 5, 6), (7, 8, 9)). Slice the second tuple (at index 1) and then extract the element at index 2 from it."
   ]
  },
  {
   "cell_type": "code",
   "execution_count": 21,
   "id": "0f463386",
   "metadata": {},
   "outputs": [
    {
     "name": "stdout",
     "output_type": "stream",
     "text": [
      "(4, 5, 6)\n",
      "6\n"
     ]
    }
   ],
   "source": [
    "\n",
    "# nested tuple Define\n",
    "nested_tuple = ((1, 2, 3), (4, 5, 6), (7, 8, 9))\n",
    "print(nested_tuple[1])\n",
    "# tuple slicing\n",
    "#slice_result=nested_tuple[1][2:3]\n",
    "slice_result=nested_tuple[1][2]\n",
    "print(slice_result)\n"
   ]
  },
  {
   "cell_type": "markdown",
   "id": "da92e29d",
   "metadata": {},
   "source": [
    "Problem 2:\n",
    "You have a nested list nested_list = [[\"a\", \"b\", \"c\"], [1, 2, 3], [\"x\", \"y\", \"z\"]]. Slice the second list (at index 1) and extract the element at index 2."
   ]
  },
  {
   "cell_type": "code",
   "execution_count": 23,
   "id": "9d88a6eb",
   "metadata": {},
   "outputs": [
    {
     "name": "stdout",
     "output_type": "stream",
     "text": [
      "3\n"
     ]
    }
   ],
   "source": [
    "# nested list Define\n",
    "nested_list = [[\"a\", \"b\", \"c\"], [1, 2, 3], [\"x\", \"y\", \"z\"]]\n",
    "slice_2nd=nested_list[1][2]\n",
    "print(slice_2nd)"
   ]
  },
  {
   "cell_type": "markdown",
   "id": "9a67f916",
   "metadata": {},
   "source": [
    "Problem 3:\n",
    "You have a list numbers = [10, 20, 30, 40, 50]. Slice the last three elements using negative indices."
   ]
  },
  {
   "cell_type": "code",
   "execution_count": 34,
   "id": "e57a5d26",
   "metadata": {},
   "outputs": [
    {
     "name": "stdout",
     "output_type": "stream",
     "text": [
      "[20, 30]\n"
     ]
    },
    {
     "data": {
      "text/plain": [
       "[30, 40, 50]"
      ]
     },
     "execution_count": 34,
     "metadata": {},
     "output_type": "execute_result"
    }
   ],
   "source": [
    "# Define List\n",
    "numbers = [10, 20, 30, 40, 50]\n",
    "\n",
    "forward_slice=numbers[1:3] # extract from intex 1 to 2 \n",
    "print(forward_slice)\n",
    "backward_slice=numbers[-3:] # Slice the last three elements using negative indices.\n",
    "backward_slice"
   ]
  },
  {
   "cell_type": "markdown",
   "id": "0cafe691",
   "metadata": {},
   "source": [
    "Problem 4:\n",
    "You have a list numbers = [10, 20, 30, 40, 50, 60]. Slice the list to extract every second element starting from index 1 and ending at index 5."
   ]
  },
  {
   "cell_type": "code",
   "execution_count": 43,
   "id": "c42190ad",
   "metadata": {},
   "outputs": [
    {
     "data": {
      "text/plain": [
       "[10, 30, 50]"
      ]
     },
     "execution_count": 43,
     "metadata": {},
     "output_type": "execute_result"
    }
   ],
   "source": [
    "# Define List\n",
    "numbers = [10, 20, 30, 40, 50, 60]\n",
    "slice_Full_range= numbers[0:6:2] # extract 2nd element from full selected list\n",
    "\n",
    "slice_Full_range\n"
   ]
  },
  {
   "cell_type": "code",
   "execution_count": 42,
   "id": "7236464a",
   "metadata": {},
   "outputs": [
    {
     "data": {
      "text/plain": [
       "[20, 40]"
      ]
     },
     "execution_count": 42,
     "metadata": {},
     "output_type": "execute_result"
    }
   ],
   "source": [
    "slice_given_range= numbers[1:5:2] # extract every second element starting from index 1 and ending at index 5\n",
    "slice_given_range"
   ]
  },
  {
   "cell_type": "markdown",
   "id": "a8af7679",
   "metadata": {},
   "source": [
    "Problem 5:\n",
    "You have a list fruits = [\"apple\", \"banana\", \"cherry\"]. Add \"orange\" to the list using the append() method."
   ]
  },
  {
   "cell_type": "code",
   "execution_count": 50,
   "id": "1d777a9f",
   "metadata": {},
   "outputs": [
    {
     "name": "stdout",
     "output_type": "stream",
     "text": [
      "['apple', 'banana', 'cherry', 'orange']\n"
     ]
    }
   ],
   "source": [
    "#define list of fruits\n",
    "fruits = [\"apple\", \"banana\", \"cherry\"]\n",
    "fruits.append(\"orange\")\n",
    "print(fruits)"
   ]
  },
  {
   "cell_type": "markdown",
   "id": "7176fc6c",
   "metadata": {},
   "source": [
    "Problem 6:\n",
    "You have a list fruits = [\"apple\", \"banana\", \"cherry\", \"orange\"]. Remove \"banana\" from the list using the remove() method."
   ]
  },
  {
   "cell_type": "code",
   "execution_count": 53,
   "id": "0b893504",
   "metadata": {},
   "outputs": [
    {
     "name": "stdout",
     "output_type": "stream",
     "text": [
      "['apple', 'cherry', 'orange']\n"
     ]
    }
   ],
   "source": [
    "fruits.remove(\"banana\")\n",
    "print(fruits)"
   ]
  },
  {
   "cell_type": "code",
   "execution_count": null,
   "id": "6c6bdd19",
   "metadata": {},
   "outputs": [],
   "source": []
  },
  {
   "cell_type": "code",
   "execution_count": null,
   "id": "adb85cfc",
   "metadata": {},
   "outputs": [],
   "source": []
  },
  {
   "cell_type": "code",
   "execution_count": null,
   "id": "be5fc95f",
   "metadata": {},
   "outputs": [],
   "source": []
  },
  {
   "cell_type": "code",
   "execution_count": null,
   "id": "5f475a89",
   "metadata": {},
   "outputs": [],
   "source": []
  }
 ],
 "metadata": {
  "kernelspec": {
   "display_name": "Python 3 (ipykernel)",
   "language": "python",
   "name": "python3"
  },
  "language_info": {
   "codemirror_mode": {
    "name": "ipython",
    "version": 3
   },
   "file_extension": ".py",
   "mimetype": "text/x-python",
   "name": "python",
   "nbconvert_exporter": "python",
   "pygments_lexer": "ipython3",
   "version": "3.11.4"
  }
 },
 "nbformat": 4,
 "nbformat_minor": 5
}
