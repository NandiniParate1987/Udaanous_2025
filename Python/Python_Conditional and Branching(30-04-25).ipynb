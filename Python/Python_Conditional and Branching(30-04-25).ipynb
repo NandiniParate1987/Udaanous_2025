{
 "cells": [
  {
   "cell_type": "markdown",
   "id": "2bd59af5",
   "metadata": {},
   "source": [
    "Problem 1:\n",
    "You are working on a wildlife monitoring program that needs to classify animals based on the speed they can run. Create a Python code snippet that determines the category of an animal based on its speed (in kilometers per hour). Use the following classifications:\n",
    "\n",
    "If the speed is greater than or equal to 60 km/h, the animal is categorized as a \"Fast Runner.\"\n",
    "If the speed is between 30 km/h and 59 km/h (inclusive), the animal is categorized as a \"Moderate Runner.\"\n",
    "If the speed is less than 30 km/h, the animal is categorized as a \"Slow Mover.\"\n",
    "Define a variable animal_speed and set it to 45 to test the program."
   ]
  },
  {
   "cell_type": "code",
   "execution_count": 33,
   "id": "31b5d2fe",
   "metadata": {},
   "outputs": [
    {
     "name": "stdout",
     "output_type": "stream",
     "text": [
      "45 km/h: The animal is categorized as a Moderate Runner.\n"
     ]
    }
   ],
   "source": [
    "# define animal_speed veriable\n",
    "animal_speed = 45\n",
    "if animal_speed >= 60: # check the first condition\n",
    "    print(animal_speed,\"km/h: The animal is categorized as a Fast Runner.\")\n",
    "elif 30 <= animal_speed <= 59: # check the second condition\n",
    "    print(animal_speed,\"km/h: The animal is categorized as a Moderate Runner.\")\n",
    "else:\n",
    "    print(animal_speed,\"km/h: The animal is categorized as a Slow Mover.\")"
   ]
  },
  {
   "cell_type": "code",
   "execution_count": 31,
   "id": "4ab6d1ef",
   "metadata": {},
   "outputs": [
    {
     "name": "stdout",
     "output_type": "stream",
     "text": [
      "65 km/h: The animal is categorized as a Fast Runner.\n"
     ]
    }
   ],
   "source": [
    "# define animal_speed veriable\n",
    "animal_speed = 65\n",
    "if animal_speed >= 60: # check the first condition\n",
    "    print(animal_speed,\"km/h: The animal is categorized as a Fast Runner.\")\n",
    "elif 30 <= animal_speed <= 59: # check the second condition\n",
    "    print(animal_speed,\"km/h: The animal is categorized as a Moderate Runner.\")\n",
    "else:\n",
    "    print(animal_speed,\"km/h: The animal is categorized as a Slow Mover.\")"
   ]
  },
  {
   "cell_type": "code",
   "execution_count": 34,
   "id": "9bb6c9a2",
   "metadata": {},
   "outputs": [
    {
     "name": "stdout",
     "output_type": "stream",
     "text": [
      "29 km/h: The animal is categorized as a Slow Mover.\n"
     ]
    }
   ],
   "source": [
    "# define animal_speed veriable\n",
    "animal_speed = 29\n",
    "if animal_speed >= 60: # check the first condition\n",
    "    print(animal_speed,\"km/h: The animal is categorized as a Fast Runner.\")\n",
    "elif 30 <= animal_speed <= 59: # check the second condition\n",
    "    print(animal_speed,\"km/h: The animal is categorized as a Moderate Runner.\")\n",
    "else:\n",
    "    print(animal_speed,\"km/h: The animal is categorized as a Slow Mover.\")"
   ]
  },
  {
   "cell_type": "markdown",
   "id": "e122a43a",
   "metadata": {},
   "source": [
    "Problem 2:\n",
    "You are developing a ticketing system for an amusement park that offers discounted tickets for children.\n",
    "\n",
    "A child is eligible for a discounted ticket only if their age is between 3 and 12 years inclusive and their height is less than 140 cm.\n",
    "\n",
    "Write a Python program that checks whether a child qualifies for a discounted ticket. Define two variables: child_age = 10 child_height = 135 to test the program."
   ]
  },
  {
   "cell_type": "code",
   "execution_count": 30,
   "id": "5018413b",
   "metadata": {},
   "outputs": [
    {
     "name": "stdout",
     "output_type": "stream",
     "text": [
      "A child is eligible for a discounted ticket\n"
     ]
    }
   ],
   "source": [
    "# define the veriable\n",
    "child_age = 10\n",
    "child_height = 135\n",
    "if 3 <= child_age <= 12 and child_height < 140:   # check the condition\n",
    "    print(\"A child is eligible for a discounted ticket\")\n",
    "else:\n",
    "    print(\"A child is Not eligible for a discounted ticket\")"
   ]
  },
  {
   "cell_type": "code",
   "execution_count": 27,
   "id": "9f2e4ff6",
   "metadata": {},
   "outputs": [
    {
     "name": "stdout",
     "output_type": "stream",
     "text": [
      "A child is Not eligible for a discounted ticket\n"
     ]
    }
   ],
   "source": [
    "# define the veriable\n",
    "child_age = 12\n",
    "child_height = 145\n",
    "if 3 <= child_age <=12 and child_height < 140: # check the condition\n",
    "    print(\"A child is eligible for a discounted ticket\")\n",
    "else:\n",
    "    print(\"A child is Not eligible for a discounted ticket\")"
   ]
  },
  {
   "cell_type": "markdown",
   "id": "ae3a5430",
   "metadata": {},
   "source": [
    "Problem 3:\n",
    "You are designing a system to determine whether a car can participate in an eco-friendly car race. The car must meet the following conditions:\n",
    "\n",
    "The car's fuel type must be \"Electric\" or \"Hybrid.\"\n",
    "If the car is \"Hybrid,\" its fuel efficiency must be greater than or equal to 25 kilometers per liter (km/l).\n",
    "Write a Python program that determines if the car qualifies for the race. Define two variables: fuel_type = \"Hybrid\" and fuel_efficiency = 28 to test the program."
   ]
  },
  {
   "cell_type": "code",
   "execution_count": 44,
   "id": "9d72c45f",
   "metadata": {},
   "outputs": [
    {
     "name": "stdout",
     "output_type": "stream",
     "text": [
      "A car is  Hybrid  type can participate in an eco-friendly car race\n"
     ]
    }
   ],
   "source": [
    "#Define two variables: \n",
    "fuel_type = \"Hybrid\" \n",
    "fuel_efficiency = 28\n",
    "if fuel_type == \"Hybrid\" or fuel_type == \"Electric\": # check car is hybrid or electric\n",
    "    if fuel_type == \"Hybrid\" and fuel_efficiency >=25: # if hybrid check 2nd condition\n",
    "        print(\"A car is \",fuel_type,\" type can participate in an eco-friendly car race\")\n",
    "    elif fuel_type == \"Electric\" and fuel_efficiency >=25: # if electric check 2nd condition\n",
    "        print(\"A car is \",fuel_type,\" type can participate in an eco-friendly car race\")\n",
    "    else:\n",
    "        print(\"A car is \",fuel_type,\" type can not participate in an eco-friendly car race\")\n",
    "        \n",
    "else:\n",
    "       print(\"A car is \",fuel_type, \" type Not Eligible\") # if car is neither hybrid nor electric \n",
    "\n"
   ]
  },
  {
   "cell_type": "code",
   "execution_count": 45,
   "id": "be2b0ea6",
   "metadata": {},
   "outputs": [
    {
     "name": "stdout",
     "output_type": "stream",
     "text": [
      "A car is  Electric  type can participate in an eco-friendly car race\n"
     ]
    }
   ],
   "source": [
    "#Define two variables: \n",
    "fuel_type = \"Electric\" \n",
    "fuel_efficiency = 28\n",
    "if fuel_type == \"Hybrid\" or fuel_type == \"Electric\": # check car is hybrid or electric\n",
    "    if fuel_type == \"Hybrid\" and fuel_efficiency >=25: # if hybrid check 2nd condition\n",
    "        print(\"A car is \",fuel_type,\" type can participate in an eco-friendly car race\")\n",
    "    elif fuel_type == \"Electric\" and fuel_efficiency >=25: # if electric check 2nd condition\n",
    "        print(\"A car is \",fuel_type,\" type can participate in an eco-friendly car race\")\n",
    "    else:\n",
    "        print(\"A car is \",fuel_type,\" type can not participate in an eco-friendly car race\")\n",
    "        \n",
    "else:\n",
    "        print(\"A car is \",fuel_type, \" type Not Eligible\") # if car is neither hybrid nor electric \n"
   ]
  },
  {
   "cell_type": "code",
   "execution_count": 46,
   "id": "298dcebf",
   "metadata": {},
   "outputs": [
    {
     "name": "stdout",
     "output_type": "stream",
     "text": [
      "A car is  Petrol  type Not Eligible\n"
     ]
    }
   ],
   "source": [
    "#Define two variables: \n",
    "fuel_type = \"Petrol\" \n",
    "fuel_efficiency = 28\n",
    "if fuel_type == \"Hybrid\" or fuel_type == \"Electric\": # check car is hybrid or electric\n",
    "    if fuel_type == \"Hybrid\" and fuel_efficiency >=25: # if hybrid check 2nd condition\n",
    "        print(\"A car is \",fuel_type,\" type can participate in an eco-friendly car race\")\n",
    "    elif fuel_type == \"Electric\" and fuel_efficiency >=25: # if electric check 2nd condition\n",
    "        print(\"A car is \",fuel_type,\" type can participate in an eco-friendly car race\")\n",
    "    else:\n",
    "        print(\"A car is \",fuel_type,\" type can not participate in an eco-friendly car race\")\n",
    "        \n",
    "else:\n",
    "        print(\"A car is \",fuel_type, \" type Not Eligible\") # if car is neither hybrid nor electric "
   ]
  },
  {
   "cell_type": "code",
   "execution_count": null,
   "id": "0ac6051b",
   "metadata": {},
   "outputs": [],
   "source": []
  },
  {
   "cell_type": "code",
   "execution_count": null,
   "id": "350cf38c",
   "metadata": {},
   "outputs": [],
   "source": []
  },
  {
   "cell_type": "code",
   "execution_count": null,
   "id": "52e92580",
   "metadata": {},
   "outputs": [],
   "source": []
  },
  {
   "cell_type": "code",
   "execution_count": null,
   "id": "6eb01531",
   "metadata": {},
   "outputs": [],
   "source": []
  }
 ],
 "metadata": {
  "kernelspec": {
   "display_name": "Python 3 (ipykernel)",
   "language": "python",
   "name": "python3"
  },
  "language_info": {
   "codemirror_mode": {
    "name": "ipython",
    "version": 3
   },
   "file_extension": ".py",
   "mimetype": "text/x-python",
   "name": "python",
   "nbconvert_exporter": "python",
   "pygments_lexer": "ipython3",
   "version": "3.11.4"
  }
 },
 "nbformat": 4,
 "nbformat_minor": 5
}
