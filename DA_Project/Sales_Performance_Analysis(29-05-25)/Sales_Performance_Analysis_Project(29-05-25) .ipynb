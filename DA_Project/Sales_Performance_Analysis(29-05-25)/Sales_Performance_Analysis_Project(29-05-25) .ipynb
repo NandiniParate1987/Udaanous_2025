{
 "cells": [
  {
   "cell_type": "code",
   "execution_count": 3,
   "id": "1a07b831",
   "metadata": {},
   "outputs": [],
   "source": [
    "import pandas as pd\n",
    "import numpy as np\n",
    "import warnings"
   ]
  },
  {
   "cell_type": "code",
   "execution_count": 5,
   "id": "de7b2d2b",
   "metadata": {},
   "outputs": [
    {
     "data": {
      "text/html": [
       "<div>\n",
       "<style scoped>\n",
       "    .dataframe tbody tr th:only-of-type {\n",
       "        vertical-align: middle;\n",
       "    }\n",
       "\n",
       "    .dataframe tbody tr th {\n",
       "        vertical-align: top;\n",
       "    }\n",
       "\n",
       "    .dataframe thead th {\n",
       "        text-align: right;\n",
       "    }\n",
       "</style>\n",
       "<table border=\"1\" class=\"dataframe\">\n",
       "  <thead>\n",
       "    <tr style=\"text-align: right;\">\n",
       "      <th></th>\n",
       "      <th>OrderID</th>\n",
       "      <th>OrderDate</th>\n",
       "      <th>Region</th>\n",
       "      <th>Salesperson</th>\n",
       "      <th>ProductName</th>\n",
       "      <th>Sales</th>\n",
       "    </tr>\n",
       "  </thead>\n",
       "  <tbody>\n",
       "    <tr>\n",
       "      <th>0</th>\n",
       "      <td>1001</td>\n",
       "      <td>2023-01-01</td>\n",
       "      <td>East</td>\n",
       "      <td>Alice</td>\n",
       "      <td>Laptop</td>\n",
       "      <td>1200</td>\n",
       "    </tr>\n",
       "    <tr>\n",
       "      <th>1</th>\n",
       "      <td>1002</td>\n",
       "      <td>2023-01-16</td>\n",
       "      <td>West</td>\n",
       "      <td>Bob</td>\n",
       "      <td>Tablet</td>\n",
       "      <td>800</td>\n",
       "    </tr>\n",
       "    <tr>\n",
       "      <th>2</th>\n",
       "      <td>1003</td>\n",
       "      <td>2023-01-31</td>\n",
       "      <td>North</td>\n",
       "      <td>Charlie</td>\n",
       "      <td>Monitor</td>\n",
       "      <td>450</td>\n",
       "    </tr>\n",
       "    <tr>\n",
       "      <th>3</th>\n",
       "      <td>1004</td>\n",
       "      <td>2023-02-15</td>\n",
       "      <td>South</td>\n",
       "      <td>David</td>\n",
       "      <td>Printer</td>\n",
       "      <td>700</td>\n",
       "    </tr>\n",
       "    <tr>\n",
       "      <th>4</th>\n",
       "      <td>1005</td>\n",
       "      <td>2023-03-02</td>\n",
       "      <td>East</td>\n",
       "      <td>Eve</td>\n",
       "      <td>Laptop</td>\n",
       "      <td>1300</td>\n",
       "    </tr>\n",
       "  </tbody>\n",
       "</table>\n",
       "</div>"
      ],
      "text/plain": [
       "   OrderID   OrderDate Region Salesperson ProductName  Sales\n",
       "0     1001  2023-01-01   East       Alice      Laptop   1200\n",
       "1     1002  2023-01-16   West         Bob      Tablet    800\n",
       "2     1003  2023-01-31  North     Charlie     Monitor    450\n",
       "3     1004  2023-02-15  South       David     Printer    700\n",
       "4     1005  2023-03-02   East         Eve      Laptop   1300"
      ]
     },
     "execution_count": 5,
     "metadata": {},
     "output_type": "execute_result"
    }
   ],
   "source": [
    "data=pd.read_csv(r'sales.csv')\n",
    "data.head()"
   ]
  },
  {
   "cell_type": "code",
   "execution_count": 6,
   "id": "2c9187a3",
   "metadata": {},
   "outputs": [
    {
     "name": "stdout",
     "output_type": "stream",
     "text": [
      "<class 'pandas.core.frame.DataFrame'>\n",
      "RangeIndex: 10 entries, 0 to 9\n",
      "Data columns (total 6 columns):\n",
      " #   Column       Non-Null Count  Dtype \n",
      "---  ------       --------------  ----- \n",
      " 0   OrderID      10 non-null     int64 \n",
      " 1   OrderDate    10 non-null     object\n",
      " 2   Region       10 non-null     object\n",
      " 3   Salesperson  10 non-null     object\n",
      " 4   ProductName  10 non-null     object\n",
      " 5   Sales        10 non-null     int64 \n",
      "dtypes: int64(2), object(4)\n",
      "memory usage: 612.0+ bytes\n"
     ]
    }
   ],
   "source": [
    "data.info()"
   ]
  },
  {
   "cell_type": "code",
   "execution_count": 12,
   "id": "92f453e9",
   "metadata": {},
   "outputs": [
    {
     "data": {
      "text/html": [
       "<div>\n",
       "<style scoped>\n",
       "    .dataframe tbody tr th:only-of-type {\n",
       "        vertical-align: middle;\n",
       "    }\n",
       "\n",
       "    .dataframe tbody tr th {\n",
       "        vertical-align: top;\n",
       "    }\n",
       "\n",
       "    .dataframe thead th {\n",
       "        text-align: right;\n",
       "    }\n",
       "</style>\n",
       "<table border=\"1\" class=\"dataframe\">\n",
       "  <thead>\n",
       "    <tr style=\"text-align: right;\">\n",
       "      <th></th>\n",
       "      <th>OrderID</th>\n",
       "      <th>Sales</th>\n",
       "    </tr>\n",
       "  </thead>\n",
       "  <tbody>\n",
       "    <tr>\n",
       "      <th>count</th>\n",
       "      <td>10.00000</td>\n",
       "      <td>10.0000</td>\n",
       "    </tr>\n",
       "    <tr>\n",
       "      <th>mean</th>\n",
       "      <td>1005.50000</td>\n",
       "      <td>808.0000</td>\n",
       "    </tr>\n",
       "    <tr>\n",
       "      <th>std</th>\n",
       "      <td>3.02765</td>\n",
       "      <td>305.4614</td>\n",
       "    </tr>\n",
       "    <tr>\n",
       "      <th>min</th>\n",
       "      <td>1001.00000</td>\n",
       "      <td>450.0000</td>\n",
       "    </tr>\n",
       "    <tr>\n",
       "      <th>25%</th>\n",
       "      <td>1003.25000</td>\n",
       "      <td>542.5000</td>\n",
       "    </tr>\n",
       "    <tr>\n",
       "      <th>50%</th>\n",
       "      <td>1005.50000</td>\n",
       "      <td>775.0000</td>\n",
       "    </tr>\n",
       "    <tr>\n",
       "      <th>75%</th>\n",
       "      <td>1007.75000</td>\n",
       "      <td>1030.0000</td>\n",
       "    </tr>\n",
       "    <tr>\n",
       "      <th>max</th>\n",
       "      <td>1010.00000</td>\n",
       "      <td>1300.0000</td>\n",
       "    </tr>\n",
       "  </tbody>\n",
       "</table>\n",
       "</div>"
      ],
      "text/plain": [
       "          OrderID      Sales\n",
       "count    10.00000    10.0000\n",
       "mean   1005.50000   808.0000\n",
       "std       3.02765   305.4614\n",
       "min    1001.00000   450.0000\n",
       "25%    1003.25000   542.5000\n",
       "50%    1005.50000   775.0000\n",
       "75%    1007.75000  1030.0000\n",
       "max    1010.00000  1300.0000"
      ]
     },
     "execution_count": 12,
     "metadata": {},
     "output_type": "execute_result"
    }
   ],
   "source": [
    "data.describe()"
   ]
  },
  {
   "cell_type": "markdown",
   "id": "c0d28fa3",
   "metadata": {},
   "source": [
    "# Find Top Products by Sales"
   ]
  },
  {
   "cell_type": "code",
   "execution_count": 13,
   "id": "f28f8df2",
   "metadata": {},
   "outputs": [
    {
     "name": "stdout",
     "output_type": "stream",
     "text": [
      "  ProductName  Sales\n",
      "0      Laptop   3600\n",
      "3      Tablet   1620\n",
      "2     Printer   1450\n",
      "1     Monitor   1410\n"
     ]
    }
   ],
   "source": [
    "# Group by ProductName and sum Sales\n",
    "top_products = data.groupby(\"ProductName\")[\"Sales\"].sum().reset_index()\n",
    "\n",
    "# Sort by Sales in descending order\n",
    "top_products = top_products.sort_values(by=\"Sales\", ascending=False)\n",
    "\n",
    "print(top_products)"
   ]
  },
  {
   "cell_type": "markdown",
   "id": "61a0a3d4",
   "metadata": {},
   "source": [
    "# Identify Monthly Sales Trends"
   ]
  },
  {
   "cell_type": "code",
   "execution_count": 14,
   "id": "232398f2",
   "metadata": {},
   "outputs": [
    {
     "name": "stdout",
     "output_type": "stream",
     "text": [
      "     Month  Sales\n",
      "0  2023-01   2450\n",
      "1  2023-02    700\n",
      "2  2023-03   1770\n",
      "3  2023-04   1570\n",
      "4  2023-05   1590\n"
     ]
    }
   ],
   "source": [
    "data[\"OrderDate\"] = pd.to_datetime(data[\"OrderDate\"])  # Convert to datetime format\n",
    "data[\"Month\"] = data[\"OrderDate\"].dt.strftime(\"%Y-%m\")  # Extract Year-Month\n",
    "\n",
    "monthly_trends = data.groupby(\"Month\")[\"Sales\"].sum().reset_index()\n",
    "\n",
    "print(monthly_trends)\n"
   ]
  },
  {
   "cell_type": "markdown",
   "id": "f145b88b",
   "metadata": {},
   "source": [
    "# Analyze Regional Sales"
   ]
  },
  {
   "cell_type": "code",
   "execution_count": 15,
   "id": "db720b47",
   "metadata": {},
   "outputs": [
    {
     "name": "stdout",
     "output_type": "stream",
     "text": [
      "  Region  Sales\n",
      "0   East   3600\n",
      "1  North   1270\n",
      "2  South   1450\n",
      "3   West   1760\n"
     ]
    }
   ],
   "source": [
    "regional_sales = data.groupby(\"Region\")[\"Sales\"].sum().reset_index()\n",
    "\n",
    "print(regional_sales)\n"
   ]
  },
  {
   "cell_type": "code",
   "execution_count": 19,
   "id": "886f6100",
   "metadata": {},
   "outputs": [
    {
     "name": "stdout",
     "output_type": "stream",
     "text": [
      "  Region    Month  Sales\n",
      "0   East  2023-01   1200\n",
      "1   East  2023-03   1300\n",
      "2   East  2023-05   1100\n",
      "3  North  2023-01    450\n",
      "4  North  2023-04    820\n",
      "5  South  2023-02    700\n",
      "6  South  2023-04    750\n",
      "7   West  2023-01    800\n",
      "8   West  2023-03    470\n",
      "9   West  2023-05    490\n"
     ]
    }
   ],
   "source": [
    "# Group by Region and Month\n",
    "regional_monthly_sales = data.groupby([\"Region\", \"Month\"])[\"Sales\"].sum().reset_index()\n",
    "print(regional_monthly_sales)"
   ]
  },
  {
   "cell_type": "markdown",
   "id": "eceb1987",
   "metadata": {},
   "source": [
    "# Bar plot"
   ]
  },
  {
   "cell_type": "code",
   "execution_count": 16,
   "id": "0d1c0483",
   "metadata": {},
   "outputs": [
    {
     "data": {
      "image/png": "[encoded data removed]",
      "text/plain": [
       "<Figure size 800x500 with 1 Axes>"
      ]
     },
     "metadata": {},
     "output_type": "display_data"
    }
   ],
   "source": [
    "import matplotlib.pyplot as plt\n",
    "import seaborn as sns\n",
    "\n",
    "# Bar chart for Top Products\n",
    "plt.figure(figsize=(8,5))\n",
    "sns.barplot(x=\"ProductName\", y=\"Sales\", data=top_products)\n",
    "plt.title(\"Top Products by Sales\")\n",
    "plt.xticks(rotation=45)\n",
    "plt.show()"
   ]
  },
  {
   "cell_type": "markdown",
   "id": "955e017e",
   "metadata": {},
   "source": [
    "Top Products\n",
    "\n",
    "Laptops are the highest-selling product with a total sales value of ₹3600.\n",
    "\n",
    "Tablets follow with ₹1620, \n",
    "\n",
    "while Printers and Monitors are slightly lower but still significant."
   ]
  },
  {
   "cell_type": "markdown",
   "id": "d4b45fd0",
   "metadata": {},
   "source": [
    "# Line chart"
   ]
  },
  {
   "cell_type": "code",
   "execution_count": 17,
   "id": "484128cd",
   "metadata": {},
   "outputs": [
    {
     "data": {
      "image/png": "[encoded data removed]",
      "text/plain": [
       "<Figure size 800x500 with 1 Axes>"
      ]
     },
     "metadata": {},
     "output_type": "display_data"
    }
   ],
   "source": [
    "# Line plot for Monthly Sales Trends\n",
    "plt.figure(figsize=(8,5))\n",
    "sns.lineplot(x=\"Month\", y=\"Sales\", data=monthly_trends, marker=\"o\")\n",
    "plt.title(\"Monthly Sales Trends\")\n",
    "plt.xticks(rotation=45)\n",
    "plt.show()"
   ]
  },
  {
   "cell_type": "markdown",
   "id": "04df7bf6",
   "metadata": {},
   "source": [
    "Monthly Sales Trends\n",
    "\n",
    "The highest sales were recorded in January (₹2450), suggesting strong demand at the start of the year.\n",
    "\n",
    "March (₹1770) and May (₹1590) also showed strong performance.\n",
    "\n",
    "February had the lowest sales (₹700), indicating a possible dip in demand or external factors."
   ]
  },
  {
   "cell_type": "code",
   "execution_count": 18,
   "id": "ef062876",
   "metadata": {},
   "outputs": [
    {
     "data": {
      "image/png": "[encoded data removed]",
      "text/plain": [
       "<Figure size 800x500 with 1 Axes>"
      ]
     },
     "metadata": {},
     "output_type": "display_data"
    }
   ],
   "source": [
    "# Bar chart for Regional Sales\n",
    "plt.figure(figsize=(8,5))\n",
    "sns.barplot(x=\"Region\", y=\"Sales\", data=regional_sales)\n",
    "plt.title(\"Regional Sales Distribution\")\n",
    "plt.show()"
   ]
  },
  {
   "cell_type": "markdown",
   "id": "f67730f0",
   "metadata": {},
   "source": [
    "Regional Sales Insights\n",
    "\n",
    "East region led with ₹3600 in sales, contributing the highest revenue.\n",
    "\n",
    "West (₹1760) performed well, while South (₹1450) and North (₹1270) showed moderate sales."
   ]
  },
  {
   "cell_type": "markdown",
   "id": "e8e5a6c5",
   "metadata": {},
   "source": [
    "# Conclusion"
   ]
  },
  {
   "cell_type": "markdown",
   "id": "0609b260",
   "metadata": {},
   "source": [
    "Laptops dominate product sales—indicating strong customer preference.\n",
    "\n",
    "Sales peak in January and fluctuate through the months, which might suggest seasonal demand.\n",
    "\n",
    "East region is the strongest market, suggesting more potential for growth in other regions."
   ]
  },
  {
   "cell_type": "code",
   "execution_count": null,
   "id": "ebab6d0c",
   "metadata": {},
   "outputs": [],
   "source": []
  }
 ],
 "metadata": {
  "kernelspec": {
   "display_name": "Python 3 (ipykernel)",
   "language": "python",
   "name": "python3"
  },
  "language_info": {
   "codemirror_mode": {
    "name": "ipython",
    "version": 3
   },
   "file_extension": ".py",
   "mimetype": "text/x-python",
   "name": "python",
   "nbconvert_exporter": "python",
   "pygments_lexer": "ipython3",
   "version": "3.11.4"
  }
 },
 "nbformat": 4,
 "nbformat_minor": 5
}
