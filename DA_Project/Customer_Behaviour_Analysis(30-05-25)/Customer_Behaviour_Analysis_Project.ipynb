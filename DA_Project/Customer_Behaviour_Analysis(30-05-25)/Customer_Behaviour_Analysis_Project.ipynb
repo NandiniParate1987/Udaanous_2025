{
 "cells": [
  {
   "cell_type": "markdown",
   "id": "6ea7a097",
   "metadata": {},
   "source": [
    "# Project: Customer Purchase Behavior Analysis"
   ]
  },
  {
   "cell_type": "markdown",
   "id": "e920c1fe",
   "metadata": {},
   "source": [
    "Project: Customer Purchase Behavior Analysis"
   ]
  },
  {
   "cell_type": "code",
   "execution_count": 2,
   "id": "f46a80df",
   "metadata": {},
   "outputs": [],
   "source": [
    "import pandas as pd\n",
    "import numpy as np\n",
    "import matplotlib as plt\n",
    "import matplotlib.pyplot as plt\n",
    "import seaborn as sns"
   ]
  },
  {
   "cell_type": "code",
   "execution_count": 3,
   "id": "f514758d",
   "metadata": {},
   "outputs": [
    {
     "data": {
      "text/html": [
       "<div>\n",
       "<style scoped>\n",
       "    .dataframe tbody tr th:only-of-type {\n",
       "        vertical-align: middle;\n",
       "    }\n",
       "\n",
       "    .dataframe tbody tr th {\n",
       "        vertical-align: top;\n",
       "    }\n",
       "\n",
       "    .dataframe thead th {\n",
       "        text-align: right;\n",
       "    }\n",
       "</style>\n",
       "<table border=\"1\" class=\"dataframe\">\n",
       "  <thead>\n",
       "    <tr style=\"text-align: right;\">\n",
       "      <th></th>\n",
       "      <th>CustomerID</th>\n",
       "      <th>Gender</th>\n",
       "      <th>Age</th>\n",
       "      <th>AnnualIncome</th>\n",
       "      <th>SpendingScore</th>\n",
       "      <th>PurchaseCategory</th>\n",
       "    </tr>\n",
       "  </thead>\n",
       "  <tbody>\n",
       "    <tr>\n",
       "      <th>0</th>\n",
       "      <td>101</td>\n",
       "      <td>Male</td>\n",
       "      <td>23</td>\n",
       "      <td>40000</td>\n",
       "      <td>60</td>\n",
       "      <td>Clothing</td>\n",
       "    </tr>\n",
       "    <tr>\n",
       "      <th>1</th>\n",
       "      <td>102</td>\n",
       "      <td>Female</td>\n",
       "      <td>31</td>\n",
       "      <td>50000</td>\n",
       "      <td>70</td>\n",
       "      <td>Electronics</td>\n",
       "    </tr>\n",
       "    <tr>\n",
       "      <th>2</th>\n",
       "      <td>103</td>\n",
       "      <td>Female</td>\n",
       "      <td>35</td>\n",
       "      <td>62000</td>\n",
       "      <td>90</td>\n",
       "      <td>Groceries</td>\n",
       "    </tr>\n",
       "    <tr>\n",
       "      <th>3</th>\n",
       "      <td>104</td>\n",
       "      <td>Male</td>\n",
       "      <td>22</td>\n",
       "      <td>35000</td>\n",
       "      <td>50</td>\n",
       "      <td>Clothing</td>\n",
       "    </tr>\n",
       "    <tr>\n",
       "      <th>4</th>\n",
       "      <td>105</td>\n",
       "      <td>Female</td>\n",
       "      <td>45</td>\n",
       "      <td>80000</td>\n",
       "      <td>80</td>\n",
       "      <td>Electronics</td>\n",
       "    </tr>\n",
       "  </tbody>\n",
       "</table>\n",
       "</div>"
      ],
      "text/plain": [
       "   CustomerID  Gender  Age  AnnualIncome  SpendingScore PurchaseCategory\n",
       "0         101    Male   23         40000             60         Clothing\n",
       "1         102  Female   31         50000             70      Electronics\n",
       "2         103  Female   35         62000             90        Groceries\n",
       "3         104    Male   22         35000             50         Clothing\n",
       "4         105  Female   45         80000             80      Electronics"
      ]
     },
     "execution_count": 3,
     "metadata": {},
     "output_type": "execute_result"
    }
   ],
   "source": [
    "data=pd.read_csv(r'customers.csv')\n",
    "data.head(5)"
   ]
  },
  {
   "cell_type": "code",
   "execution_count": 4,
   "id": "5638e16b",
   "metadata": {},
   "outputs": [
    {
     "name": "stdout",
     "output_type": "stream",
     "text": [
      "<class 'pandas.core.frame.DataFrame'>\n",
      "RangeIndex: 10 entries, 0 to 9\n",
      "Data columns (total 6 columns):\n",
      " #   Column            Non-Null Count  Dtype \n",
      "---  ------            --------------  ----- \n",
      " 0   CustomerID        10 non-null     int64 \n",
      " 1   Gender            10 non-null     object\n",
      " 2   Age               10 non-null     int64 \n",
      " 3   AnnualIncome      10 non-null     int64 \n",
      " 4   SpendingScore     10 non-null     int64 \n",
      " 5   PurchaseCategory  10 non-null     object\n",
      "dtypes: int64(4), object(2)\n",
      "memory usage: 612.0+ bytes\n"
     ]
    }
   ],
   "source": [
    "data.info()"
   ]
  },
  {
   "cell_type": "code",
   "execution_count": 5,
   "id": "7a16b06c",
   "metadata": {},
   "outputs": [
    {
     "data": {
      "text/html": [
       "<div>\n",
       "<style scoped>\n",
       "    .dataframe tbody tr th:only-of-type {\n",
       "        vertical-align: middle;\n",
       "    }\n",
       "\n",
       "    .dataframe tbody tr th {\n",
       "        vertical-align: top;\n",
       "    }\n",
       "\n",
       "    .dataframe thead th {\n",
       "        text-align: right;\n",
       "    }\n",
       "</style>\n",
       "<table border=\"1\" class=\"dataframe\">\n",
       "  <thead>\n",
       "    <tr style=\"text-align: right;\">\n",
       "      <th></th>\n",
       "      <th>CustomerID</th>\n",
       "      <th>Gender</th>\n",
       "      <th>Age</th>\n",
       "      <th>AnnualIncome</th>\n",
       "      <th>SpendingScore</th>\n",
       "      <th>PurchaseCategory</th>\n",
       "    </tr>\n",
       "  </thead>\n",
       "  <tbody>\n",
       "    <tr>\n",
       "      <th>0</th>\n",
       "      <td>False</td>\n",
       "      <td>False</td>\n",
       "      <td>False</td>\n",
       "      <td>False</td>\n",
       "      <td>False</td>\n",
       "      <td>False</td>\n",
       "    </tr>\n",
       "    <tr>\n",
       "      <th>1</th>\n",
       "      <td>False</td>\n",
       "      <td>False</td>\n",
       "      <td>False</td>\n",
       "      <td>False</td>\n",
       "      <td>False</td>\n",
       "      <td>False</td>\n",
       "    </tr>\n",
       "    <tr>\n",
       "      <th>2</th>\n",
       "      <td>False</td>\n",
       "      <td>False</td>\n",
       "      <td>False</td>\n",
       "      <td>False</td>\n",
       "      <td>False</td>\n",
       "      <td>False</td>\n",
       "    </tr>\n",
       "    <tr>\n",
       "      <th>3</th>\n",
       "      <td>False</td>\n",
       "      <td>False</td>\n",
       "      <td>False</td>\n",
       "      <td>False</td>\n",
       "      <td>False</td>\n",
       "      <td>False</td>\n",
       "    </tr>\n",
       "    <tr>\n",
       "      <th>4</th>\n",
       "      <td>False</td>\n",
       "      <td>False</td>\n",
       "      <td>False</td>\n",
       "      <td>False</td>\n",
       "      <td>False</td>\n",
       "      <td>False</td>\n",
       "    </tr>\n",
       "    <tr>\n",
       "      <th>5</th>\n",
       "      <td>False</td>\n",
       "      <td>False</td>\n",
       "      <td>False</td>\n",
       "      <td>False</td>\n",
       "      <td>False</td>\n",
       "      <td>False</td>\n",
       "    </tr>\n",
       "    <tr>\n",
       "      <th>6</th>\n",
       "      <td>False</td>\n",
       "      <td>False</td>\n",
       "      <td>False</td>\n",
       "      <td>False</td>\n",
       "      <td>False</td>\n",
       "      <td>False</td>\n",
       "    </tr>\n",
       "    <tr>\n",
       "      <th>7</th>\n",
       "      <td>False</td>\n",
       "      <td>False</td>\n",
       "      <td>False</td>\n",
       "      <td>False</td>\n",
       "      <td>False</td>\n",
       "      <td>False</td>\n",
       "    </tr>\n",
       "    <tr>\n",
       "      <th>8</th>\n",
       "      <td>False</td>\n",
       "      <td>False</td>\n",
       "      <td>False</td>\n",
       "      <td>False</td>\n",
       "      <td>False</td>\n",
       "      <td>False</td>\n",
       "    </tr>\n",
       "    <tr>\n",
       "      <th>9</th>\n",
       "      <td>False</td>\n",
       "      <td>False</td>\n",
       "      <td>False</td>\n",
       "      <td>False</td>\n",
       "      <td>False</td>\n",
       "      <td>False</td>\n",
       "    </tr>\n",
       "  </tbody>\n",
       "</table>\n",
       "</div>"
      ],
      "text/plain": [
       "   CustomerID  Gender    Age  AnnualIncome  SpendingScore  PurchaseCategory\n",
       "0       False   False  False         False          False             False\n",
       "1       False   False  False         False          False             False\n",
       "2       False   False  False         False          False             False\n",
       "3       False   False  False         False          False             False\n",
       "4       False   False  False         False          False             False\n",
       "5       False   False  False         False          False             False\n",
       "6       False   False  False         False          False             False\n",
       "7       False   False  False         False          False             False\n",
       "8       False   False  False         False          False             False\n",
       "9       False   False  False         False          False             False"
      ]
     },
     "execution_count": 5,
     "metadata": {},
     "output_type": "execute_result"
    }
   ],
   "source": [
    "data.isnull()"
   ]
  },
  {
   "cell_type": "code",
   "execution_count": 6,
   "id": "c3ee1376",
   "metadata": {},
   "outputs": [
    {
     "data": {
      "text/html": [
       "<div>\n",
       "<style scoped>\n",
       "    .dataframe tbody tr th:only-of-type {\n",
       "        vertical-align: middle;\n",
       "    }\n",
       "\n",
       "    .dataframe tbody tr th {\n",
       "        vertical-align: top;\n",
       "    }\n",
       "\n",
       "    .dataframe thead th {\n",
       "        text-align: right;\n",
       "    }\n",
       "</style>\n",
       "<table border=\"1\" class=\"dataframe\">\n",
       "  <thead>\n",
       "    <tr style=\"text-align: right;\">\n",
       "      <th></th>\n",
       "      <th>CustomerID</th>\n",
       "      <th>Age</th>\n",
       "      <th>AnnualIncome</th>\n",
       "      <th>SpendingScore</th>\n",
       "    </tr>\n",
       "  </thead>\n",
       "  <tbody>\n",
       "    <tr>\n",
       "      <th>count</th>\n",
       "      <td>10.00000</td>\n",
       "      <td>10.000000</td>\n",
       "      <td>10.000000</td>\n",
       "      <td>10.000000</td>\n",
       "    </tr>\n",
       "    <tr>\n",
       "      <th>mean</th>\n",
       "      <td>105.50000</td>\n",
       "      <td>33.800000</td>\n",
       "      <td>59200.000000</td>\n",
       "      <td>66.200000</td>\n",
       "    </tr>\n",
       "    <tr>\n",
       "      <th>std</th>\n",
       "      <td>3.02765</td>\n",
       "      <td>9.681598</td>\n",
       "      <td>17812.604776</td>\n",
       "      <td>16.791532</td>\n",
       "    </tr>\n",
       "    <tr>\n",
       "      <th>min</th>\n",
       "      <td>101.00000</td>\n",
       "      <td>22.000000</td>\n",
       "      <td>35000.000000</td>\n",
       "      <td>30.000000</td>\n",
       "    </tr>\n",
       "    <tr>\n",
       "      <th>25%</th>\n",
       "      <td>103.25000</td>\n",
       "      <td>27.500000</td>\n",
       "      <td>48500.000000</td>\n",
       "      <td>61.250000</td>\n",
       "    </tr>\n",
       "    <tr>\n",
       "      <th>50%</th>\n",
       "      <td>105.50000</td>\n",
       "      <td>32.000000</td>\n",
       "      <td>56000.000000</td>\n",
       "      <td>69.000000</td>\n",
       "    </tr>\n",
       "    <tr>\n",
       "      <th>75%</th>\n",
       "      <td>107.75000</td>\n",
       "      <td>39.500000</td>\n",
       "      <td>71750.000000</td>\n",
       "      <td>75.750000</td>\n",
       "    </tr>\n",
       "    <tr>\n",
       "      <th>max</th>\n",
       "      <td>110.00000</td>\n",
       "      <td>52.000000</td>\n",
       "      <td>90000.000000</td>\n",
       "      <td>90.000000</td>\n",
       "    </tr>\n",
       "  </tbody>\n",
       "</table>\n",
       "</div>"
      ],
      "text/plain": [
       "       CustomerID        Age  AnnualIncome  SpendingScore\n",
       "count    10.00000  10.000000     10.000000      10.000000\n",
       "mean    105.50000  33.800000  59200.000000      66.200000\n",
       "std       3.02765   9.681598  17812.604776      16.791532\n",
       "min     101.00000  22.000000  35000.000000      30.000000\n",
       "25%     103.25000  27.500000  48500.000000      61.250000\n",
       "50%     105.50000  32.000000  56000.000000      69.000000\n",
       "75%     107.75000  39.500000  71750.000000      75.750000\n",
       "max     110.00000  52.000000  90000.000000      90.000000"
      ]
     },
     "execution_count": 6,
     "metadata": {},
     "output_type": "execute_result"
    }
   ],
   "source": [
    "data.describe()"
   ]
  },
  {
   "cell_type": "markdown",
   "id": "3c1c6149",
   "metadata": {},
   "source": [
    "Visualizetion of Gender Distribution\n",
    " This shows how many male and female customers are in the dataset."
   ]
  },
  {
   "cell_type": "code",
   "execution_count": 7,
   "id": "21ea7c18",
   "metadata": {},
   "outputs": [
    {
     "name": "stdout",
     "output_type": "stream",
     "text": [
      "Male      5\n",
      "Female    5\n",
      "Name: Gender, dtype: int64\n"
     ]
    },
    {
     "data": {
      "image/png": "[encoded data removed]",
      "text/plain": [
       "<Figure size 600x400 with 1 Axes>"
      ]
     },
     "metadata": {},
     "output_type": "display_data"
    }
   ],
   "source": [
    "# Count the occurrences of each gender\n",
    "gender_counts = data['Gender'].value_counts()\n",
    "print(gender_counts)\n",
    "\n",
    "# Create a bar plot\n",
    "plt.figure(figsize=(6,4))\n",
    "sns.barplot(x=gender_counts.index, y=gender_counts.values, palette='coolwarm')\n",
    "\n",
    "# Labels and title\n",
    "plt.xlabel(\"Gender\")\n",
    "plt.ylabel(\"Count\")\n",
    "plt.title(\"Gender Distribution\")\n",
    "\n",
    "plt.show()"
   ]
  },
  {
   "cell_type": "markdown",
   "id": "b1731668",
   "metadata": {},
   "source": [
    "Analyzing the Spending Score by Gender\n",
    " to Understand which gender tends to spend more."
   ]
  },
  {
   "cell_type": "code",
   "execution_count": 8,
   "id": "a325a067",
   "metadata": {},
   "outputs": [
    {
     "name": "stdout",
     "output_type": "stream",
     "text": [
      "Gender\n",
      "Female    77.8\n",
      "Male      54.6\n",
      "Name: SpendingScore, dtype: float64\n"
     ]
    }
   ],
   "source": [
    "# Calculate mean spending score by gender\n",
    "spending_by_gender = data.groupby('Gender')['SpendingScore'].mean()\n",
    "\n",
    "# Display the result\n",
    "print(spending_by_gender)"
   ]
  },
  {
   "cell_type": "code",
   "execution_count": 9,
   "id": "596cc138",
   "metadata": {},
   "outputs": [
    {
     "data": {
      "image/png": "[encoded data removed]",
      "text/plain": [
       "<Figure size 600x400 with 1 Axes>"
      ]
     },
     "metadata": {},
     "output_type": "display_data"
    }
   ],
   "source": [
    "# Bar plot for spending score by gender\n",
    "plt.figure(figsize=(6,4))\n",
    "sns.barplot(x=spending_by_gender.index, y=spending_by_gender.values, palette='coolwarm')\n",
    "\n",
    "# Labels and title\n",
    "plt.xlabel(\"Gender\")\n",
    "plt.ylabel(\"Average Spending Score\")\n",
    "plt.title(\"Spending Score by Gender\")\n",
    "\n",
    "plt.show()"
   ]
  },
  {
   "cell_type": "markdown",
   "id": "f3bda449",
   "metadata": {},
   "source": [
    "Exploration of Relationship Between Age and Spending Score\n",
    " Determine whether younger or older customers tend to spend more."
   ]
  },
  {
   "cell_type": "code",
   "execution_count": 10,
   "id": "96b98753",
   "metadata": {},
   "outputs": [
    {
     "data": {
      "image/png": "[encoded data removed]",
      "text/plain": [
       "<Figure size 800x500 with 1 Axes>"
      ]
     },
     "metadata": {},
     "output_type": "display_data"
    }
   ],
   "source": [
    "# Create scatter plot\n",
    "plt.figure(figsize=(8,5))\n",
    "sns.scatterplot(x=data['Age'], y=data['SpendingScore'], hue=data['Gender'], palette='coolwarm')\n",
    "\n",
    "# Labels and title\n",
    "plt.xlabel(\"Age\")\n",
    "plt.ylabel(\"Spending Score\")\n",
    "plt.title(\"Age vs. Spending Score\")\n",
    "\n",
    "plt.show()"
   ]
  },
  {
   "cell_type": "markdown",
   "id": "5f73c957",
   "metadata": {},
   "source": [
    "Category-Wise Spending Analysis\n",
    " To See which purchase category (Clothing, Electronics, Groceries) has the highest average spending."
   ]
  },
  {
   "cell_type": "code",
   "execution_count": 11,
   "id": "4f5cd942",
   "metadata": {},
   "outputs": [
    {
     "name": "stdout",
     "output_type": "stream",
     "text": [
      "PurchaseCategory\n",
      "Clothing       62.500000\n",
      "Electronics    71.666667\n",
      "Groceries      65.666667\n",
      "Name: SpendingScore, dtype: float64\n"
     ]
    }
   ],
   "source": [
    "category_spending = data.groupby('PurchaseCategory')['SpendingScore'].mean()\n",
    "print(category_spending)"
   ]
  },
  {
   "cell_type": "code",
   "execution_count": null,
   "id": "2657ef54",
   "metadata": {},
   "outputs": [],
   "source": []
  },
  {
   "cell_type": "markdown",
   "id": "6658e069",
   "metadata": {},
   "source": [
    "Comparing income vs spending"
   ]
  },
  {
   "cell_type": "code",
   "execution_count": 13,
   "id": "0f11c8fe",
   "metadata": {},
   "outputs": [
    {
     "name": "stdout",
     "output_type": "stream",
     "text": [
      "Correlation between income and spending: -0.13871200337250084\n"
     ]
    }
   ],
   "source": [
    "correlation = data['AnnualIncome'].corr(data['SpendingScore'])\n",
    "print(f\"Correlation between income and spending: {correlation}\")"
   ]
  },
  {
   "cell_type": "code",
   "execution_count": 14,
   "id": "3dee4613",
   "metadata": {},
   "outputs": [
    {
     "data": {
      "image/png": "[encoded data removed]",
      "text/plain": [
       "<Figure size 800x500 with 1 Axes>"
      ]
     },
     "metadata": {},
     "output_type": "display_data"
    }
   ],
   "source": [
    "plt.figure(figsize=(8,5))\n",
    "sns.scatterplot(x=data['AnnualIncome'], y=data['SpendingScore'], hue=data['Gender'], palette='coolwarm')\n",
    "\n",
    "plt.xlabel(\"Annual Income\")\n",
    "plt.ylabel(\"Spending Score\")\n",
    "plt.title(\"Income vs Spending Score\")\n",
    "\n",
    "plt.show()"
   ]
  },
  {
   "cell_type": "code",
   "execution_count": 15,
   "id": "32134f16",
   "metadata": {},
   "outputs": [
    {
     "name": "stdout",
     "output_type": "stream",
     "text": [
      "IncomeGroup\n",
      "(30000, 50000]    63.000000\n",
      "(50000, 70000]    78.333333\n",
      "(70000, 90000]    58.333333\n",
      "Name: SpendingScore, dtype: float64\n"
     ]
    }
   ],
   "source": [
    "# Grouping and Averages\n",
    "income_bins = [30000, 50000, 70000, 90000]\n",
    "data['IncomeGroup'] = pd.cut(data['AnnualIncome'], bins=income_bins)\n",
    "avg_spending = data.groupby('IncomeGroup')['SpendingScore'].mean()\n",
    "print(avg_spending)"
   ]
  },
  {
   "cell_type": "markdown",
   "id": "e4ca2dbc",
   "metadata": {},
   "source": [
    "Create pie charts of category distributions."
   ]
  },
  {
   "cell_type": "code",
   "execution_count": 16,
   "id": "d7d244b3",
   "metadata": {},
   "outputs": [
    {
     "data": {
      "image/png": "[encoded data removed]",
      "text/plain": [
       "<Figure size 600x600 with 1 Axes>"
      ]
     },
     "metadata": {},
     "output_type": "display_data"
    }
   ],
   "source": [
    "# Count the occurrences of each category\n",
    "category_counts = data['PurchaseCategory'].value_counts()\n",
    "\n",
    "# Create a pie chart\n",
    "plt.figure(figsize=(6, 6))\n",
    "plt.pie(category_counts, labels=category_counts.index, autopct='%1.1f%%', colors=['skyblue', 'lightcoral', 'gold'])\n",
    "\n",
    "# Title\n",
    "plt.title(\"Purchase Category Distribution\")\n",
    "\n",
    "# Show the chart\n",
    "plt.show()"
   ]
  },
  {
   "cell_type": "markdown",
   "id": "c3f070a2",
   "metadata": {},
   "source": [
    "# **Conclusion: Customer Spending Behavior Analysis**"
   ]
  },
  {
   "cell_type": "markdown",
   "id": "89089f79",
   "metadata": {},
   "source": [
    "### **Who are the high spenders?**\n",
    "- Customers with a **higher Spending Score** tend to be **younger**.\n",
    "- Female customers exhibit a higher **average spending score** compared to male customers.\n",
    "- High-income customers do not necessarily spend the most; spending varies across income groups."
   ]
  },
  {
   "cell_type": "markdown",
   "id": "c0363014",
   "metadata": {},
   "source": [
    "### **Are there patterns by gender or age?**\n",
    "- **Age:** Younger individuals show a higher spending score, indicating they are more active consumers.\n",
    "- **Gender:** Female customers tend to spend more on average than male customers.\n"
   ]
  },
  {
   "cell_type": "markdown",
   "id": "0a4858eb",
   "metadata": {},
   "source": [
    "### **What could a marketing team do based on this?**\n",
    "- **Target younger shoppers** with personalized promotions and exclusive discounts to enhance engagement.\n",
    "- **Create gender-based marketing strategies**, focusing on female shoppers who tend to have a higher spending score.\n",
    "- **Optimize product categories** by analyzing popular spending trends (e.g., Clothing vs. Electronics vs. Groceries).\n",
    "- **Introduce loyalty programs** to increase customer retention among high-spending individuals.\n",
    "\n",
    "These insights enable businesses to refine their marketing approach and optimize revenue strategies based on customer preferences.\n"
   ]
  },
  {
   "cell_type": "code",
   "execution_count": null,
   "id": "7949a65f",
   "metadata": {},
   "outputs": [],
   "source": []
  }
 ],
 "metadata": {
  "kernelspec": {
   "display_name": "Python 3 (ipykernel)",
   "language": "python",
   "name": "python3"
  },
  "language_info": {
   "codemirror_mode": {
    "name": "ipython",
    "version": 3
   },
   "file_extension": ".py",
   "mimetype": "text/x-python",
   "name": "python",
   "nbconvert_exporter": "python",
   "pygments_lexer": "ipython3",
   "version": "3.11.4"
  }
 },
 "nbformat": 4,
 "nbformat_minor": 5
}
